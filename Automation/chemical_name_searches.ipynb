{
 "cells": [
  {
   "cell_type": "code",
   "execution_count": 1,
   "id": "cac6189b",
   "metadata": {},
   "outputs": [],
   "source": [
    "#Major dependencies:\n",
    "#pandas, numpy, seaborn, matplotlib\n",
    "import pandas as pd\n",
    "import numpy as np\n",
    "import seaborn as sns\n",
    "import matplotlib.pyplot as plt\n",
    "import sys\n",
    "import os\n",
    "import networkx as nx   \n",
    "import rdkit \n",
    "from rdkit import Chem\n",
    "from rdkit.Chem import rdmolops\n",
    "from rdkit.Chem import Draw"
   ]
  },
  {
   "cell_type": "code",
   "execution_count": 81,
   "id": "e042abf1",
   "metadata": {},
   "outputs": [],
   "source": [
    "# Define the SMILES strings for the molecules\n",
    "smi_1 = \"OCC1OC(O)C(O)C(O)C1O\"\n",
    "smi_2 = 'O=CC(O)C(O)C(O)C(O)CO'\n",
    "smi_3 = 'O=CC(O)C(O)CO'\n",
    "smi_4 = 'OCC(O)C1OC1O'\n",
    "smi_5 = 'O=CCO'\n",
    "smiles_list = [smi_1, smi_2, smi_3, smi_4, smi_5]"
   ]
  },
  {
   "cell_type": "code",
   "execution_count": 91,
   "id": "2e79a4bd",
   "metadata": {},
   "outputs": [],
   "source": [
    "import pubchempy as pcp\n",
    "\n",
    "def smiles_to_name_pubchem(smiles):\n",
    "    \"\"\"\n",
    "    Convert SMILES to a tuple: (IUPAC name, list of synonyms) using PubChem.\n",
    "    \n",
    "    Returns:\n",
    "        (iupac_name, synonyms) or (None, None) if not found\n",
    "    \"\"\"\n",
    "    mol = Chem.MolFromSmiles(smiles)\n",
    "    if mol is None:\n",
    "        return None, None\n",
    "\n",
    "    try:\n",
    "        inchikey = inchi.MolToInchiKey(mol)\n",
    "        compounds = pcp.get_compounds(inchikey, 'inchikey')\n",
    "        if compounds:\n",
    "            c = compounds[0]\n",
    "            iupac = c.iupac_name\n",
    "            synonyms = c.synonyms or []\n",
    "            return iupac, synonyms\n",
    "    except Exception as e:\n",
    "        print(f\"Error: {e}\")\n",
    "        return None, None\n"
   ]
  },
  {
   "cell_type": "code",
   "execution_count": 92,
   "id": "c3b5d4bf",
   "metadata": {},
   "outputs": [
    {
     "name": "stdout",
     "output_type": "stream",
     "text": [
      "SMILES: OCC1OC(O)C(O)C(O)C1O -> Name: ('6-(hydroxymethyl)oxane-2,3,4,5-tetrol', ['Hexopyranose', 'Hexose', 'hexopyranoside', '42752-07-8', 'DTXSID80858960', 'Unknown Hexose', 'Unknown Hexopyranose', 'Unknown Hexopyranoside', 'CHEBI:18133', 'DTXCID10196988', 'DTXCID40202844', 'WURCS=2.0/1,1,0/(axxxxh-1x_1-5_2*NCC/3=O)/1/', '45009-62-9', 'dtxsid70860057', 'HEX', 'HEX (SNFG)', 'SNFG:HEX', '6-(hydroxymethyl)oxane-2,3,4,5-tetrol', 'D-[4,6-13C2]glucose', 'D-Mannose-6-13C', \"D-[6,6'-2H2]galactose\", 'ZYMOSAN', 'D-(+)-Mannose', 'D-Mannose-2-13C', 'b-d-glucose', 'D-Mannose-1-C-d', 'D-[2,5-13C2]glucose', 'D-[4,5-13C2]glucose', 'D-[1-13C]gulose', 'D-[2-13C]gulose', 'D-[1-13c,1-2h]glucose', 'ALPHA-D-GLUCOSEANHYDROUS', 'D-[11-13C]TALOSE', 'NSC8102', 'Glucose Oxidase from Aspergillus niger,', 'D-[2-2H]galactose', 'D-[4-2H]galactose', '.beta.-D-Glucopyranose', 'B-D-ALLOPYRANOSE', 'D-[1-18O]glucose', 'D-[2-13C]talose', 'D-[3-13C]glucose', 'L-[2-13C]glucose', 'D-[3-13C]galactose', 'D-[5-13C]galactose', \"D-[6-13C,6,6'-2H2]GLUCOSE\", '35669-34-2', '478529-30-5', 'L-[UL-13C6]galactose', 'BETA-D-GLUCOSE (CONTAINS ALPHA-D-GLUCOSE)', \"D-[1,6-13C2,6,6'-2H2]GLUCOSE\", 'L-(-)-ALLOSE', 'D-[3-2H]GALACTOSE', 'D-[1,2-13C2]galactose', 'D-hexose', 'Hexopyranose #', '115973-81-4', '201136-45-0', '39392-62-6', '70849-16-0', 'D-[4,5-2H2]GLUCOSE', '.alpha.-D-Glucose', \"D-[4,5,6,6'-2H4]glucose\", 'D(+)-Mannose', '288846-86-6', '478518-63-7', '478518-71-7', 'D-[4-2H]glucose', 'D-Glucose-2-13C', '26655-34-5', '.alpha.-D-Glucopyranose', '.alpha.-d-Galactopyranose', '(3R,4S,5R,6R)-6-(Hydroxymethyl)tetrahydro-2H-pyran-2,3,4,5-tetraol', 'D-[3-2H]GLUCOSE', '157171-80-7', '39392-65-9', '478518-56-8', '478518-62-6', '478518-66-0', '64429-86-3', '70849-25-1', '86595-19-9', 'D-[4,5,6-13C3]glucose', 'an aldopyranose', 'a pyranose', 'MFCD00064122', 'MFCD00066772', '?-D-Galactose', 'Allopyranose, D-', '287100-64-5', '40825-89-6', '478518-58-0', '478518-70-6', '478519-05-0', '478529-33-8', '478529-48-5', '478529-49-6', '83379-36-6', 'D-glucose anhydrous', '.alpha.-d-Galactose', 'alpha-d-(+)-glucose', 'GALACTOSE, (D)', 'MolMap_000072', 'SCHEMBL34307', 'SCHEMBL4879791', 'SCHEMBL15334147', 'CHEBI:167473', 'HMS3373C02', 'HMS3373E09', 'HMS3744K13', 'HMS5082I17', 'HMS5085F05', '106032-60-4', '23403-54-5', '478529-47-4', '51517-59-0', '579-36-2', 'DAA64673', 'DUA51863', 'DUA51871', 'DUA52930', 'JAA01072', 'PCA42986', 'QEA97381', 'VCA84916', 'BBL012219', 'NSC144657', 'NSC274237', 'NSC287045', 'SBB000211', 'STL163560', 'AKOS000119941', 'AKOS016038567', 'AKOS022061531', 'AKOS037503714', 'CCG-272298', 'NSC-287045', 'SB44851', 'SB45285', 'SB47940', 'Zymosan A from Saccharomyces cerevisiae', 'DA-19781', 'ST018508', 'SY008815', 'SY012757', 'SY015251', 'SY057403', 'VS-03240', '6-methyloltetrahydropyran-2,3,4,5-tetrol', 'DB-051616', 'DB-055683', 'DB-112935', 'NS00069768', 'NS00076953', 'EN300-33349', 'C00738', '51DB4B86-692B-40EA-A7AD-4B20C8174CBE', '175348-09-1'])\n",
      "SMILES: O=CC(O)C(O)C(O)C(O)CO -> Name: ('2,3,4,5,6-pentahydroxyhexanal', ['25191-16-6', '2,3,4,5,6-pentahydroxyhexanal', '3458-28-4', 'Mannose, D-', '93780-23-5', '2595-97-3', 'D-Glucose-3,4-13C2', '15572-79-9', 'L-(-)-Galactose', 'D-(-)-GULOSE', 'D-Mannose-3-13C', '67759-25-5', 'CHEBI:33917', '4205-23-6', 'alpha-D-Glucopyranose-1,6-13C2', 'Altrose, D-', 'NSC406891', 'D-(+) Glucose', 'D-[2-13C]GALACTOSE', 'Glucose, liquid', 'Aldohexose', 'Galactose, D-', 'Dextrose, anhydrous', '5934-56-5', 'D-Allose-13C', 'Galactose, L- (8CI)', 'D-Glucose-1,2-13C2', '101615-89-8', '31103-86-3', 'aldohexoses', 'Hexoses', 'NSC-2573', 'MFCD00136021', 'NSC-224293', 'NSC-406891', 'Hexose #', 'NCGC00159408-02', '201417-01-8', '314062-47-0', 'GLUCOSE (D)', 'D(+)-Glucose, anhydrous', 'SCHEMBL1812', '(3R,4R,5R,6R)-6-(hydroxymethyl)oxane-2,3,4,5-tetrol', 'D(+)-Glucose;(2R,3S,4R,5R)-2,3,4,5,6-Pentahydroxyhexanal', 'SGCUT00120', 'CHEMBL1206211', 'D-(+)-Galactose, plant derived', 'NSC2573', 'HMS3651M12', 'HMS5080E14', '2,3,4,5,6-pentahy-droxyhexanal', '110187-42-3', '8027-56-3', 'BEA61589', 'NSC26247', 'NSC83659', 'SCA75925', 'to_000009', 'VCA84927', 'VCA84928', 'NSC-83659', 'NSC224293', 'STL185552', 'GLUCOSE, L-, [1-14C]', 'AKOS009156817', 'SB40630', 'SB44733', 'SB44748', 'SB44794', 'SB44854', 'SB44882', 'SB45026', 'SB45057', 'SB45528', 'SB45632', 'SB46961', 'SY069569', 'SY073251', 'DB-043285', 'DB-044880', 'DB-045027', 'DB-048655', 'CS-0266345', 'EN300-49119', 'WLN: T6OTJ BQ CQ DQ EQ F1Q -D,GLU', 'F25D46D2-AF25-42CF-BA85-09669814B5DC'])\n",
      "SMILES: O=CC(O)C(O)CO -> Name: ('2,3,4-trihydroxybutanal', ['2,3,4-trihydroxybutanal', '7558-94-3', 'DTXSID20862748', 'DTXCID00220842', 'tetrose', 'Aldotetroses', 'MFCD00006970', 'D-THREOSE (CONTAINS 35% WATER AT MAXIMUM)', 'CHEMBL25834', 'SCHEMBL799754', 'SCHEMBL5575310', 'SY234733', 'DB-052311', 'NS00032729', '09BAE02E-97B2-420F-8EB4-61093C12E314'])\n",
      "SMILES: OCC(O)C1OC1O -> Name: Not found\n",
      "SMILES: O=CCO -> Name: ('2-hydroxyacetaldehyde', ['glycolaldehyde', '2-Hydroxyacetaldehyde', 'hydroxyacetaldehyde', 'Glycolic aldehyde', 'Diose', 'Acetaldehyde, hydroxy-', 'GLYCOALDEHYDE', 'Glycollaldehyde', 'Methylol formaldehyde', 'Monomethylolformaldehyde', '2-hydroxyethanal', 'Methylolformaldehyde', '2-OH-acetaldehyde', 'Hydroxyethanal', '2-Oxoethanol', 'NSC 67935', 'CCRIS 2613', 'BRN 0506029', 'UNII-W0A0XPU08U', 'EINECS 205-484-9', 'W0A0XPU08U', 'HOCH2CHO', 'GLYCOLLIC ALDEHYDE', 'NSC-67935', 'GLYCOLALDEHYDE [MI]', 'DTXSID4074693', 'CHEBI:17071', 'Acetaldehyde, hydroxy-(9CI)', '2Hydroxyethanal', 'Acetaldehyde, hydroxy', 'Acetaldehyde, hydroxy (9CI)', 'DTXCID4034570', '4-01-00-03955 (beilstein handbook reference)', 'wgcnasohlspbmp-uhfffaoysa-n', '141-46-8', 'Acetaldehyde, hydroxy- (9CI)', '2-oxidanylethanal', 'glycol aldehyde', 'Hydroxyacetoaldehyde', 'hydroxy-acetaldehyde', 'DW3', 'Glycolaldehyde (8CI)', 'bmse000258', 'SCHEMBL4508', 'SCHEMBL65061', 'SCHEMBL73703', 'SCHEMBL1388025', 'SCHEMBL1869696', 'SCHEMBL5613933', 'SCHEMBL8949940', 'SCHEMBL9033297', 'SCHEMBL9713300', 'CHEMBL3884509', 'NSC67935', 'AKOS010078724', 'NS00021010', 'EN300-91724', 'C00266', 'A902395', 'Q899877'])\n"
     ]
    }
   ],
   "source": [
    "for smi in smiles_list:\n",
    "    name = smiles_to_name_pubchem(smi)\n",
    "    if name:\n",
    "        print(f\"SMILES: {smi} -> Name: {name}\")\n",
    "    else:\n",
    "        print(f\"SMILES: {smi} -> Name: Not found\")"
   ]
  },
  {
   "cell_type": "code",
   "execution_count": 86,
   "id": "9d695804",
   "metadata": {},
   "outputs": [],
   "source": [
    "import requests\n",
    "\n",
    "def smiles_to_name_cactus(smiles):\n",
    "    \"\"\"\n",
    "    Convert a SMILES string to a chemical name using NIH CACTUS.\n",
    "    \"\"\"\n",
    "    url = f\"https://cactus.nci.nih.gov/chemical/structure/{smiles}/iupac_name\"\n",
    "    try:\n",
    "        response = requests.get(url, timeout=5)\n",
    "        if response.status_code == 200:\n",
    "            return response.text.strip()\n",
    "    except requests.exceptions.RequestException:\n",
    "        pass\n",
    "    return None"
   ]
  },
  {
   "cell_type": "code",
   "execution_count": 87,
   "id": "055d8cf1",
   "metadata": {},
   "outputs": [
    {
     "name": "stdout",
     "output_type": "stream",
     "text": [
      "SMILES: OCC1OC(O)C(O)C(O)C1O -> Name: 6-(hydroxymethyl)oxane-2,3,4,5-tetrol\n",
      "SMILES: O=CC(O)C(O)C(O)C(O)CO -> Name: 2,3,4,5,6-pentahydroxyhexanal\n",
      "SMILES: O=CC(O)C(O)CO -> Name: 2,3,4-trihydroxybutanal\n",
      "SMILES: OCC(O)C1OC1O -> Name: Not found\n",
      "SMILES: O=CCO -> Name: Not found\n"
     ]
    }
   ],
   "source": [
    "for smi in smiles_list:\n",
    "    name = smiles_to_name_cactus(smi)\n",
    "    if name:\n",
    "        print(f\"SMILES: {smi} -> Name: {name}\")\n",
    "    else:\n",
    "        print(f\"SMILES: {smi} -> Name: Not found\")"
   ]
  },
  {
   "cell_type": "code",
   "execution_count": 88,
   "id": "92c68e28",
   "metadata": {},
   "outputs": [],
   "source": [
    "from rdkit import Chem\n",
    "from rdkit.Chem import inchi\n",
    "import pubchempy as pcp\n",
    "\n",
    "def smiles_to_name(smiles):\n",
    "    \"\"\"\n",
    "    Convert a SMILES string to a chemical name using InChI + PubChem.\n",
    "    \"\"\"\n",
    "    mol = Chem.MolFromSmiles(smiles)\n",
    "    if mol is None:\n",
    "        return None\n",
    "\n",
    "    try:\n",
    "        inchi_str = inchi.MolToInchi(mol)\n",
    "        compounds = pcp.get_compounds(inchi_str, namespace='inchi')\n",
    "        if compounds:\n",
    "            c = compounds[0]\n",
    "            return c.iupac_name or c.synonyms[0]\n",
    "    except Exception:\n",
    "        return None\n"
   ]
  },
  {
   "cell_type": "code",
   "execution_count": 100,
   "id": "b96ebb07",
   "metadata": {},
   "outputs": [
    {
     "name": "stderr",
     "output_type": "stream",
     "text": [
      "[14:14:02] WARNING: Omitted undefined stereo\n",
      "\n"
     ]
    },
    {
     "name": "stdout",
     "output_type": "stream",
     "text": [
      "SMILES: OCC1OC(O)C(O)C(O)C1O -> Name: 6-(hydroxymethyl)oxane-2,3,4,5-tetrol\n"
     ]
    },
    {
     "name": "stderr",
     "output_type": "stream",
     "text": [
      "[14:14:02] WARNING: Omitted undefined stereo\n",
      "\n"
     ]
    },
    {
     "name": "stdout",
     "output_type": "stream",
     "text": [
      "SMILES: O=CC(O)C(O)C(O)C(O)CO -> Name: 2,3,4,5,6-pentahydroxyhexanal\n"
     ]
    },
    {
     "name": "stderr",
     "output_type": "stream",
     "text": [
      "[14:14:03] WARNING: Omitted undefined stereo\n",
      "\n"
     ]
    },
    {
     "name": "stdout",
     "output_type": "stream",
     "text": [
      "SMILES: O=CC(O)C(O)CO -> Name: 2,3,4-trihydroxybutanal\n"
     ]
    },
    {
     "name": "stderr",
     "output_type": "stream",
     "text": [
      "[14:14:03] WARNING: Omitted undefined stereo\n",
      "\n"
     ]
    },
    {
     "name": "stdout",
     "output_type": "stream",
     "text": [
      "SMILES: OCC(O)C1OC1O -> Name: Not found\n",
      "SMILES: O=CCO -> Name: 2-hydroxyacetaldehyde\n"
     ]
    }
   ],
   "source": [
    "for smi in smiles_list:\n",
    "    name = smiles_to_name(smi)\n",
    "    if name:\n",
    "        print(f\"SMILES: {smi} -> Name: {name}\")\n",
    "    else:\n",
    "        print(f\"SMILES: {smi} -> Name: Not found\")"
   ]
  },
  {
   "cell_type": "code",
   "execution_count": 90,
   "id": "5be574e3",
   "metadata": {},
   "outputs": [
    {
     "name": "stderr",
     "output_type": "stream",
     "text": [
      "[14:10:06] WARNING: Omitted undefined stereo\n",
      "\n"
     ]
    },
    {
     "name": "stdout",
     "output_type": "stream",
     "text": [
      "OCC1OC(O)C(O)C(O)C1O → 6-(hydroxymethyl)oxane-2,3,4,5-tetrol\n"
     ]
    }
   ],
   "source": [
    "if __name__ == \"__main__\":\n",
    "    smi_1 = \"OCC1OC(O)C(O)C(O)C1O\"\n",
    "    name = smiles_to_name(smi_1)\n",
    "    print(f\"{smi_1} → {name}\")"
   ]
  },
  {
   "cell_type": "code",
   "execution_count": 101,
   "id": "b72378c0",
   "metadata": {},
   "outputs": [],
   "source": [
    "import re\n",
    "from rdkit import Chem\n",
    "from rdkit.Chem import inchi\n",
    "import pubchempy as pcp\n",
    "\n",
    "def smiles_to_best_name(smiles):\n",
    "    \"\"\"\n",
    "    Convert SMILES to a best-guess common or IUPAC name using PubChem.\n",
    "    \n",
    "    Returns:\n",
    "        A single human-readable name (common name preferred, fallback to IUPAC).\n",
    "    \"\"\"\n",
    "    mol = Chem.MolFromSmiles(smiles)\n",
    "    if mol is None:\n",
    "        return None\n",
    "\n",
    "    try:\n",
    "        inchikey = inchi.MolToInchiKey(mol)\n",
    "        compounds = pcp.get_compounds(inchikey, 'inchikey')\n",
    "        if not compounds:\n",
    "            return None\n",
    "\n",
    "        c = compounds[0]\n",
    "        iupac = c.iupac_name or \"\"\n",
    "\n",
    "        if c.synonyms:\n",
    "            # Heuristic filter: exclude CAS numbers and long technical names\n",
    "            common_candidates = [\n",
    "                s for s in c.synonyms\n",
    "                if re.match(r\"^[A-Za-z \\-]+$\", s) and len(s.split()) <= 3\n",
    "            ]\n",
    "            # Further prioritize known common names\n",
    "            for name in common_candidates:\n",
    "                if name.lower() in ['glucose', 'ethanol', 'benzene', 'aspirin']:\n",
    "                    return name\n",
    "            if common_candidates:\n",
    "                return common_candidates[0]\n",
    "\n",
    "        return iupac if iupac else None\n",
    "    except Exception as e:\n",
    "        print(f\"Error: {e}\")\n",
    "        return None\n"
   ]
  },
  {
   "cell_type": "code",
   "execution_count": 102,
   "id": "655a6d87",
   "metadata": {},
   "outputs": [
    {
     "name": "stdout",
     "output_type": "stream",
     "text": [
      "CCO → ethanol\n",
      "C1=CC=CC=C1 → benzene\n",
      "OCC1OC(O)C(O)C(O)C1O → Hexopyranose\n",
      "CC(=O)OC1=CC=CC=C1C(=O)O → aspirin\n"
     ]
    }
   ],
   "source": [
    "if __name__ == \"__main__\":\n",
    "    test_smiles = [\n",
    "        \"CCO\",                         # ethanol\n",
    "        \"C1=CC=CC=C1\",                 # benzene\n",
    "        \"OCC1OC(O)C(O)C(O)C1O\",        # glucose\n",
    "        \"CC(=O)OC1=CC=CC=C1C(=O)O\",    # aspirin\n",
    "    ]\n",
    "\n",
    "    for smi in test_smiles:\n",
    "        best_name = smiles_to_best_name(smi)\n",
    "        print(f\"{smi} → {best_name}\")\n"
   ]
  },
  {
   "cell_type": "code",
   "execution_count": 103,
   "id": "7a83de04",
   "metadata": {},
   "outputs": [
    {
     "name": "stdout",
     "output_type": "stream",
     "text": [
      "SMILES: OCC1OC(O)C(O)C(O)C1O -> Name: Hexopyranose\n",
      "SMILES: O=CC(O)C(O)C(O)C(O)CO -> Name: Aldohexose\n",
      "SMILES: O=CC(O)C(O)CO -> Name: tetrose\n",
      "SMILES: OCC(O)C1OC1O -> Name: Not found\n",
      "SMILES: O=CCO -> Name: glycolaldehyde\n"
     ]
    }
   ],
   "source": [
    "for smi in smiles_list:\n",
    "    name = smiles_to_best_name(smi)\n",
    "    if name:\n",
    "        print(f\"SMILES: {smi} -> Name: {name}\")\n",
    "    else:\n",
    "        print(f\"SMILES: {smi} -> Name: Not found\")"
   ]
  },
  {
   "cell_type": "code",
   "execution_count": 104,
   "id": "41e83c4f",
   "metadata": {},
   "outputs": [],
   "source": [
    "from rdkit.Chem import inchi\n",
    "\n",
    "def canonicalize_smiles(smiles):\n",
    "    mol = Chem.MolFromSmiles(smiles)\n",
    "    if mol is None:\n",
    "        return None\n",
    "    return Chem.MolToSmiles(mol, canonical=True)\n"
   ]
  },
  {
   "cell_type": "code",
   "execution_count": 105,
   "id": "72c9a6a7",
   "metadata": {},
   "outputs": [
    {
     "name": "stdout",
     "output_type": "stream",
     "text": [
      "OCC(O)C1OC1O\n"
     ]
    }
   ],
   "source": [
    "canonical = canonicalize_smiles(\"C1(C(C(CO)O)O1)O\")\n",
    "print(canonical)  # Should give a more typical SMILES string\n"
   ]
  },
  {
   "cell_type": "code",
   "execution_count": 108,
   "id": "d0564001",
   "metadata": {},
   "outputs": [
    {
     "name": "stderr",
     "output_type": "stream",
     "text": [
      "[14:27:25] WARNING: Omitted undefined stereo\n",
      "\n"
     ]
    },
    {
     "name": "stdout",
     "output_type": "stream",
     "text": [
      "None\n",
      "None\n",
      "None\n",
      "None\n"
     ]
    }
   ],
   "source": [
    "print(smiles_to_name(canonical))  # Should give a more typical name\n",
    "print(smiles_to_best_name(canonical))  # Should give a more typical name\n",
    "print(smiles_to_name_pubchem(canonical))  # Should give a more typical name\n",
    "print(smiles_to_name_cactus(canonical))  # Should give a more typical name"
   ]
  },
  {
   "cell_type": "code",
   "execution_count": 110,
   "id": "4f8572b8",
   "metadata": {},
   "outputs": [
    {
     "name": "stdout",
     "output_type": "stream",
     "text": [
      "InChIKey: CXZZRQVTLHCGPB-UHFFFAOYSA-N\n"
     ]
    }
   ],
   "source": [
    "\n",
    "smiles = \"OCC(O)C1OC1O\"\n",
    "mol = Chem.MolFromSmiles(smiles)\n",
    "\n",
    "if mol:\n",
    "    inchikey = inchi.MolToInchiKey(mol)\n",
    "    print(f\"InChIKey: {inchikey}\")\n",
    "else:\n",
    "    print(\"Invalid SMILES.\")"
   ]
  },
  {
   "cell_type": "code",
   "execution_count": null,
   "id": "225ac46f",
   "metadata": {},
   "outputs": [],
   "source": []
  }
 ],
 "metadata": {
  "kernelspec": {
   "display_name": "yarp_env",
   "language": "python",
   "name": "python3"
  },
  "language_info": {
   "codemirror_mode": {
    "name": "ipython",
    "version": 3
   },
   "file_extension": ".py",
   "mimetype": "text/x-python",
   "name": "python",
   "nbconvert_exporter": "python",
   "pygments_lexer": "ipython3",
   "version": "3.9.19"
  }
 },
 "nbformat": 4,
 "nbformat_minor": 5
}
